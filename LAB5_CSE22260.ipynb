{
  "nbformat": 4,
  "nbformat_minor": 0,
  "metadata": {
    "colab": {
      "provenance": [],
      "include_colab_link": true
    },
    "kernelspec": {
      "name": "python3",
      "display_name": "Python 3"
    },
    "language_info": {
      "name": "python"
    }
  },
  "cells": [
    {
      "cell_type": "markdown",
      "metadata": {
        "id": "view-in-github",
        "colab_type": "text"
      },
      "source": [
        "<a href=\"https://colab.research.google.com/github/UtpalRAJ-BLENU4CSE22260/Machine-Learning-Lab-assessment/blob/main/LAB5_CSE22260.ipynb\" target=\"_parent\"><img src=\"https://colab.research.google.com/assets/colab-badge.svg\" alt=\"Open In Colab\"/></a>"
      ]
    },
    {
      "cell_type": "code",
      "source": [
        "import pandas as pd\n",
        "import numpy as np\n",
        "# Load the dataset\n",
        "df1 = pd.read_csv('DCT_withoutduplicate 5.csv')\n",
        "\n",
        "from sklearn.model_selection import train_test_split\n",
        "\n",
        "# Separating features and labels\n",
        "x = df1.iloc[:, :-1].values  # Feature vectors\n",
        "y = df1['LABEL'].values  # Labels\n",
        "\n",
        "# Splitting the dataset\n",
        "x_train, x_test, y_train, y_test = train_test_split(x, y, test_size=0.3, random_state=42)"
      ],
      "metadata": {
        "id": "Bj2ySdtirnFI"
      },
      "execution_count": 3,
      "outputs": []
    },
    {
      "cell_type": "code",
      "source": [
        "from sklearn.linear_model import LinearRegression\n",
        "\n",
        "# Select one attribute (column) from x_train\n",
        "x_train_single = x_train[:, [0]]  # Selecting the first attribute\n",
        "\n",
        "# Train the Linear Regression model\n",
        "reg = LinearRegression().fit(x_train_single, y_train)\n",
        "\n",
        "# Make predictions on the training data\n",
        "y_train_pred = reg.predict(x_train_single)"
      ],
      "metadata": {
        "id": "shbxk6DHwyld"
      },
      "execution_count": 4,
      "outputs": []
    },
    {
      "cell_type": "code",
      "source": [
        "from sklearn.metrics import mean_squared_error, r2_score, mean_absolute_percentage_error\n",
        "import numpy as np\n",
        "\n",
        "# Calculating Mean Squared Error (MSE)\n",
        "mse = mean_squared_error(y_train, y_train_pred)\n",
        "\n",
        "# Calculating Root Mean Squared Error (RMSE)\n",
        "rmse = np.sqrt(mse)\n",
        "\n",
        "# Calculating Mean Absolute Percentage Error (MAPE)\n",
        "mape = mean_absolute_percentage_error(y_train, y_train_pred)\n",
        "\n",
        "# Calculate R2 Score\n",
        "r2 = r2_score(y_train, y_train_pred)\n",
        "\n",
        "# Print the metrics\n",
        "print(f\"MSE: {mse}\")\n",
        "print(f\"RMSE: {rmse}\")\n",
        "print(f\"MAPE: {mape}\")\n",
        "print(f\"R2 Score: {r2}\")"
      ],
      "metadata": {
        "colab": {
          "base_uri": "https://localhost:8080/"
        },
        "id": "UCDX92-Bw5kv",
        "outputId": "51bd8edb-57b7-4e1b-b037-f0c7d74014e9"
      },
      "execution_count": 5,
      "outputs": [
        {
          "output_type": "stream",
          "name": "stdout",
          "text": [
            "MSE: 860.6040651748306\n",
            "RMSE: 29.33605401506533\n",
            "MAPE: 0.005643050450335228\n",
            "R2 Score: 0.00021234912169687536\n"
          ]
        }
      ]
    },
    {
      "cell_type": "code",
      "source": [
        "x_test_single = x_test[:, [0]]  # Selecting the same attribute from test set\n",
        "y_test_pred = reg.predict(x_test_single)\n",
        "\n",
        "# Calculating and printing metrics for the test set\n",
        "mse_test = mean_squared_error(y_test, y_test_pred)\n",
        "rmse_test = np.sqrt(mse_test)\n",
        "mape_test = mean_absolute_percentage_error(y_test, y_test_pred)\n",
        "r2_test = r2_score(y_test, y_test_pred)\n",
        "\n",
        "print(f\"Test MSE: {mse_test}\")\n",
        "print(f\"Test RMSE: {rmse_test}\")\n",
        "print(f\"Test MAPE: {mape_test}\")\n",
        "print(f\"Test R2 Score: {r2_test}\")"
      ],
      "metadata": {
        "colab": {
          "base_uri": "https://localhost:8080/"
        },
        "id": "8HnaZxeaw8ey",
        "outputId": "9f377e41-9d0c-4c36-952f-ec368b4531a6"
      },
      "execution_count": 6,
      "outputs": [
        {
          "output_type": "stream",
          "name": "stdout",
          "text": [
            "Test MSE: 899.6353778157014\n",
            "Test RMSE: 29.99392234796412\n",
            "Test MAPE: 0.005897858552757457\n",
            "Test R2 Score: -0.001521830709183325\n"
          ]
        }
      ]
    },
    {
      "cell_type": "code",
      "source": [
        "# Using all attributes in X_train\n",
        "reg_all = LinearRegression().fit(x_train, y_train)\n",
        "\n",
        "# Make predictions and calculate metrics\n",
        "y_train_pred_all = reg_all.predict(x_train)\n",
        "y_test_pred_all = reg_all.predict(x_test)\n",
        "\n",
        "# Calculating Mean Squared Error (MSE)\n",
        "mse = mean_squared_error(y_train, y_train_pred_all)\n",
        "\n",
        "# Calculating Root Mean Squared Error (RMSE)\n",
        "rmse = np.sqrt(mse)\n",
        "\n",
        "# Calculating Mean Absolute Percentage Error (MAPE)\n",
        "mape = mean_absolute_percentage_error(y_train, y_train_pred_all)\n",
        "\n",
        "# Calculate R2 Score\n",
        "r2 = r2_score(y_train, y_train_pred_all)\n",
        "\n",
        "# Print the metrics\n",
        "print(f\"MSE: {mse}\")\n",
        "print(f\"RMSE: {rmse}\")\n",
        "print(f\"MAPE: {mape}\")\n",
        "print(f\"R2 Score: {r2}\")\n",
        "\n",
        "print();\n",
        "# Calculating and printing metrics for the test set\n",
        "mse_test = mean_squared_error(y_test, y_test_pred_all)\n",
        "rmse_test = np.sqrt(mse_test)\n",
        "mape_test = mean_absolute_percentage_error(y_test, y_test_pred_all)\n",
        "r2_test = r2_score(y_test, y_test_pred_all)\n",
        "\n",
        "print(f\"Test MSE: {mse_test}\")\n",
        "print(f\"Test RMSE: {rmse_test}\")\n",
        "print(f\"Test MAPE: {mape_test}\")\n",
        "print(f\"Test R2 Score: {r2_test}\")"
      ],
      "metadata": {
        "colab": {
          "base_uri": "https://localhost:8080/"
        },
        "id": "5x2bwt_ww_BM",
        "outputId": "97723b15-e29b-4913-d226-2c21b1dc0660"
      },
      "execution_count": 7,
      "outputs": [
        {
          "output_type": "stream",
          "name": "stdout",
          "text": [
            "MSE: 318.73448039524834\n",
            "RMSE: 17.85313643019759\n",
            "MAPE: 0.003971789444644141\n",
            "R2 Score: 0.6297172993906959\n",
            "\n",
            "Test MSE: 2285.9651298783137\n",
            "Test RMSE: 47.81176769246577\n",
            "Test MAPE: 0.005701657281728005\n",
            "Test R2 Score: -1.5448576593017207\n"
          ]
        }
      ]
    },
    {
      "cell_type": "code",
      "source": [
        "from sklearn.cluster import KMeans\n",
        "\n",
        "# Fit KMeans clustering (excluding the target variable)\n",
        "kmeans = KMeans(n_clusters=2, random_state=0, n_init=\"auto\").fit(x_train)\n",
        "\n",
        "# Output labels and cluster centers\n",
        "labels = kmeans.labels_\n",
        "centers = kmeans.cluster_centers_\n",
        "\n",
        "print(f\"Labels: {labels}\")\n",
        "print()\n",
        "print(f\"Cluster Centers: {centers}\")"
      ],
      "metadata": {
        "colab": {
          "base_uri": "https://localhost:8080/"
        },
        "id": "VtWi1WFuxBpQ",
        "outputId": "d053819b-162a-4a71-adfa-7a90779a2baa"
      },
      "execution_count": 8,
      "outputs": [
        {
          "output_type": "stream",
          "name": "stdout",
          "text": [
            "Labels: [0 1 0 ... 1 1 1]\n",
            "\n",
            "Cluster Centers: [[ 2.87845514e+04  3.00110707e+01  1.46649740e+01  1.22354390e+03\n",
            "   1.05064178e+01  1.22513116e+03 -7.25026103e+01 -1.21059820e+01\n",
            "  -3.00056313e+01 -3.58727857e+01 -7.48520682e+02 -1.18011485e+01\n",
            "  -1.53699641e+03 -1.51714416e+01 -7.44880793e+02  7.30630206e+01\n",
            "  -1.01779348e+01  6.88565848e+01  2.57527345e+01 -4.60446182e-01\n",
            "   3.45951222e+01  1.67882553e+02  1.74470009e+01  8.27870868e+02\n",
            "   3.58608515e+01  8.29668821e+02  1.21426913e+01  1.66248944e+02\n",
            "  -4.00382396e+01  2.91575225e+01 -6.46639661e+01  2.86333993e+01\n",
            "   6.27045772e+00 -2.12627753e+01  2.66038895e+01 -1.72527593e+01\n",
            "   1.02145717e+02  1.55881133e+00 -2.08506103e+02 -2.50035978e+01\n",
            "  -4.35622808e+02 -2.90089983e+01 -1.95492691e+02 -5.86987601e+00\n",
            "   1.18769380e+02  1.26725130e+00 -3.51304437e+01  2.63063106e+01\n",
            "  -7.64063850e+01 -2.25682609e+01 -4.25202216e+01 -7.22339186e+01\n",
            "   1.70753440e+00 -3.53329619e+01 -3.63494811e+00 -1.85088381e+02\n",
            "  -1.14460511e+00 -1.96706849e+02  1.95961732e+00  2.46145474e+01\n",
            "   1.12170903e+01  2.08444265e+01  1.95737893e-01 -2.07718411e+02\n",
            "  -6.98131740e+00 -1.91542378e+02  1.62687086e+01  2.72466292e+01\n",
            "   1.20724871e+01  8.89791416e+01  3.82675180e+01  9.47892425e+01\n",
            "   9.41246787e+01  4.56180937e+01  9.00832134e+01  1.50355960e+01\n",
            "   2.54720226e+01  1.30967041e+01  4.20452553e+01  1.23385314e+01\n",
            "   1.86482228e+02  2.29320232e+01  1.64821112e+02  1.84594892e+01\n",
            "   1.16054951e+02  1.74993958e+01  1.77816705e+02  2.07012782e+01\n",
            "   2.03791554e+02  7.94679842e+00  4.55733571e+01 -8.09339726e+00\n",
            "  -1.43752221e+01 -2.39986877e+01 -6.76054057e+01 -3.92197784e+01\n",
            "  -1.03719619e+02 -8.46277893e+01 -8.01163391e+01 -1.06236812e+02\n",
            "  -3.54959727e+01 -6.26582634e+01 -1.93104225e+01 -1.01715257e+01\n",
            "  -1.12295712e+01  1.34436806e+01  3.48812314e+00 -8.63309286e+01\n",
            "  -1.87143963e+01 -1.47989711e+02 -3.99711771e+01 -1.32098567e+02\n",
            "  -4.60337093e+01 -1.37172929e+02 -4.23512928e+01 -1.55037117e+02\n",
            "  -2.70021819e+01 -7.91641507e+01 -6.60266870e+00  3.09783720e+01\n",
            "  -1.15696257e+01  3.69410504e+00  6.77004947e+00  3.32280206e+01\n",
            "   2.06108456e+01  7.26638512e+01  4.86016808e+01  7.67804564e+01\n",
            "   7.89914953e+01  4.28916984e+01  6.50482483e+01  1.55275968e+01\n",
            "   2.10697332e+01  1.02265519e+01 -2.51890340e-01  3.59105002e+00\n",
            "  -7.42482059e+01 -5.83776956e-01 -6.86185020e+01  5.91351983e+00\n",
            "   2.11030819e+01  3.18744468e+01  6.32127705e+01  5.39742092e+01\n",
            "   6.47766722e+01  5.75314719e+01  6.67584555e+01  4.01906699e+01\n",
            "   1.91922157e+01  1.23423785e+01 -8.09331337e+01 -2.68634110e+00\n",
            "  -8.30677295e+01  2.22559704e+01  1.21041593e+00  1.84998311e+01\n",
            "  -7.16629767e+00  6.15196729e+00 -2.99278934e+01 -4.69695364e+00\n",
            "  -4.27191853e+01 -2.59030539e+01 -2.62029039e+01 -3.27451133e+01\n",
            "  -1.67024851e+00 -1.19961347e+01  4.16634912e+00  4.12385549e+00\n",
            "  -3.29510827e-01  1.46326656e+00 -8.61553960e-01  6.00469276e+00\n",
            "   1.30772763e+01  5.26249267e+01  1.73843034e+01  5.76310133e+01\n",
            "  -4.23782905e+00  2.83007274e+01 -3.71678821e+01  5.74103832e+00\n",
            "  -5.50833427e+01  3.91786723e+00 -4.58643221e+01  3.11169772e+01\n",
            "  -1.87098217e+01  7.47456493e+01  2.98334541e+00  7.47878199e+01\n",
            "   3.98257585e+00  1.07619532e+01 -1.60988017e+01 -3.04013068e+00\n",
            "  -3.02369659e+01 -4.87007342e+00 -2.48160851e+01  5.70158120e-01]\n",
            " [ 3.53808269e+04  6.81819957e+01  9.69337515e+01  2.13774458e+03\n",
            "   7.95187794e+01  2.10462212e+03 -1.47562949e+02 -7.89391702e+01\n",
            "  -4.03095134e+01 -1.97302785e+02 -5.78862270e+02 -1.59326723e+02\n",
            "  -2.13962164e+03 -1.56937626e+02 -5.13854209e+02  1.09074518e+02\n",
            "  -2.40522738e+01  7.62645613e+01  1.47708837e+02 -5.56437213e+01\n",
            "   1.37972629e+02 -3.11173859e+02  9.36030326e+01  4.37787083e+02\n",
            "   2.97362367e+02  3.76917872e+02  8.69102906e+01 -3.56100834e+02\n",
            "  -1.75437727e+01  6.48229640e+01 -3.34005577e+01  7.75914424e+01\n",
            "   1.42664361e+02 -8.22665458e+01  7.98585325e+01 -3.41778064e+01\n",
            "   1.90965923e+02 -1.31057440e-01  3.65490189e+02 -1.53122133e+02\n",
            "   1.19024906e+02 -1.41152633e+02  4.11760083e+02  1.73257244e+01\n",
            "   1.84173414e+02 -2.52710297e+01 -3.63049778e+01 -2.34422996e+01\n",
            "  -1.57882549e+02 -1.58218474e+02 -1.06370889e+02 -1.93244848e+02\n",
            "   4.27104524e+00 -4.15871774e+01 -1.28231120e+01  5.19406658e+01\n",
            "  -2.21995544e+01 -2.04017640e+02 -2.84180386e+01 -2.32255940e+02\n",
            "   2.43125241e+01 -2.50294802e+02 -6.00119546e+01 -2.00653479e+02\n",
            "  -4.36226254e+01  8.74272614e+01  1.42705515e+01 -5.96915598e+00\n",
            "   2.17309124e+01  7.45742535e+01  8.24729969e+01  1.48812636e+02\n",
            "   1.78718803e+02  6.02160443e+01  9.21792938e+01  8.11144948e+00\n",
            "   1.10316680e+01  1.82874693e+01 -8.46031003e+01 -9.52375747e+00\n",
            "  -1.29931574e+02  4.03812255e+01 -1.01875058e+01  7.42260270e+01\n",
            "   2.22318490e+01  9.16167833e+01 -8.38891100e+00  8.33250672e+01\n",
            "  -1.67302136e+02  4.55353845e+00 -1.16754496e+02 -5.23841445e+00\n",
            "   1.36654100e+01  8.32142927e+00  2.82306222e+01  2.38562038e+01\n",
            "  -3.75850745e+01 -4.55504837e+01 -4.29333371e+01 -6.15357139e+01\n",
            "   1.74945604e+01 -1.77106769e+01 -3.75069989e+00 -1.13772355e+01\n",
            "  -2.36902848e+01 -2.75304014e+01  1.85981585e+01  7.48801452e+01\n",
            "   3.69974250e+01  1.34330968e+02 -1.67641142e+01  1.17764324e+02\n",
            "  -5.82528533e+01  1.12942078e+02 -4.40351815e+01  1.39305193e+02\n",
            "   1.21634934e+01  1.03705730e+02  1.90472790e+01 -2.50359849e+01\n",
            "   1.10082635e+01  3.67609541e+00 -7.39621331e+00 -4.00456542e+01\n",
            "  -6.57511623e+01 -6.71140083e+01 -8.20449780e+01 -4.63156158e+01\n",
            "  -3.50923518e+01 -5.69344744e+01 -9.49773489e+00 -3.77204763e+01\n",
            "   1.80467509e+01  1.92660011e+01  1.21358498e+01  2.05859699e+01\n",
            "   1.19924203e+00 -1.13972972e+01  2.37415221e+01 -4.91798715e+01\n",
            "  -4.43441915e+01 -7.08820719e+01 -9.80527393e+01 -2.81106414e+01\n",
            "  -9.28926188e+01 -2.32882540e+01 -7.41366164e+01 -5.76959376e+01\n",
            "  -3.98099144e+01 -5.48436941e+01  1.82734182e+01 -1.27148884e+01\n",
            "   1.88182705e+01 -9.34056611e+00 -1.46435986e+01 -1.17140166e+01\n",
            "  -9.22525355e+00  3.02504242e+01  5.47196281e+01  9.55458439e+01\n",
            "   9.41430177e+01  9.93409869e+01  9.09032054e+01  4.73675625e+01\n",
            "   6.20107376e+01 -8.50854425e+00  4.34502182e+00 -2.75604366e+01\n",
            "  -2.07245707e+01 -6.27483984e+00  2.25337128e-01  3.03738632e+00\n",
            "   3.98739521e+00 -4.56232082e+01  1.09059716e+01 -6.22839887e+01\n",
            "   5.51293435e+01 -7.25223908e+00  7.17231242e+01  4.22497358e+00\n",
            "   5.33867537e+01 -1.73923432e+01  7.53227517e+01 -3.57918519e+01\n",
            "   7.08678312e+01 -6.01044293e+01  2.61646332e+01 -6.00356517e+01\n",
            "   4.98283998e-01 -2.38787890e+01  3.77772618e+00  1.04476460e+01\n",
            "   1.35324608e+01  3.51496055e+01  1.24387092e+01  1.37750511e+01]]\n"
          ]
        }
      ]
    },
    {
      "cell_type": "code",
      "source": [
        "from sklearn.metrics import silhouette_score, calinski_harabasz_score, davies_bouldin_score\n",
        "\n",
        "# Calculate Silhouette Score\n",
        "silhouette = silhouette_score(x_train, kmeans.labels_)\n",
        "\n",
        "# Calculate Calinski-Harabasz Score (CH Score)\n",
        "ch_score = calinski_harabasz_score(x_train, kmeans.labels_)\n",
        "\n",
        "# Calculate Davies-Bouldin Index (DB Index)\n",
        "db_index = davies_bouldin_score(x_train, kmeans.labels_)\n",
        "\n",
        "print(f\"Silhouette Score: {silhouette}\")\n",
        "print(f\"CH Score: {ch_score}\")\n",
        "print(f\"DB Index: {db_index}\")"
      ],
      "metadata": {
        "colab": {
          "base_uri": "https://localhost:8080/"
        },
        "id": "KhDm5vY9xEDf",
        "outputId": "9c2113b0-037b-4dc8-f87f-7c9fa1bd09c2"
      },
      "execution_count": 9,
      "outputs": [
        {
          "output_type": "stream",
          "name": "stdout",
          "text": [
            "Silhouette Score: 0.30321787454910154\n",
            "CH Score: 834.6349844543615\n",
            "DB Index: 1.220703238266825\n"
          ]
        }
      ]
    },
    {
      "cell_type": "code",
      "source": [
        "scores = []\n",
        "for k in range(2, 10):  # You can expand the range as needed\n",
        "    kmeans = KMeans(n_clusters=k, random_state=42).fit(x_train)\n",
        "    silhouette = silhouette_score(x_train, kmeans.labels_)\n",
        "    ch_score = calinski_harabasz_score(x_train, kmeans.labels_)\n",
        "    db_index = davies_bouldin_score(x_train, kmeans.labels_)\n",
        "    scores.append((k, silhouette, ch_score, db_index))\n",
        "\n",
        "# Print the scores\n",
        "for score in scores:\n",
        "    print(f\"k = {score[0]}: Silhouette = {score[1]}, CH Score = {score[2]}, DB Index = {score[3]}\")\n"
      ],
      "metadata": {
        "colab": {
          "base_uri": "https://localhost:8080/"
        },
        "id": "gKk1YDM7xG_9",
        "outputId": "2c66669a-4227-4d07-a109-c7807cc200bd"
      },
      "execution_count": 10,
      "outputs": [
        {
          "output_type": "stream",
          "name": "stderr",
          "text": [
            "/usr/local/lib/python3.10/dist-packages/sklearn/cluster/_kmeans.py:1416: FutureWarning: The default value of `n_init` will change from 10 to 'auto' in 1.4. Set the value of `n_init` explicitly to suppress the warning\n",
            "  super()._check_params_vs_input(X, default_n_init=10)\n",
            "/usr/local/lib/python3.10/dist-packages/sklearn/cluster/_kmeans.py:1416: FutureWarning: The default value of `n_init` will change from 10 to 'auto' in 1.4. Set the value of `n_init` explicitly to suppress the warning\n",
            "  super()._check_params_vs_input(X, default_n_init=10)\n",
            "/usr/local/lib/python3.10/dist-packages/sklearn/cluster/_kmeans.py:1416: FutureWarning: The default value of `n_init` will change from 10 to 'auto' in 1.4. Set the value of `n_init` explicitly to suppress the warning\n",
            "  super()._check_params_vs_input(X, default_n_init=10)\n",
            "/usr/local/lib/python3.10/dist-packages/sklearn/cluster/_kmeans.py:1416: FutureWarning: The default value of `n_init` will change from 10 to 'auto' in 1.4. Set the value of `n_init` explicitly to suppress the warning\n",
            "  super()._check_params_vs_input(X, default_n_init=10)\n",
            "/usr/local/lib/python3.10/dist-packages/sklearn/cluster/_kmeans.py:1416: FutureWarning: The default value of `n_init` will change from 10 to 'auto' in 1.4. Set the value of `n_init` explicitly to suppress the warning\n",
            "  super()._check_params_vs_input(X, default_n_init=10)\n",
            "/usr/local/lib/python3.10/dist-packages/sklearn/cluster/_kmeans.py:1416: FutureWarning: The default value of `n_init` will change from 10 to 'auto' in 1.4. Set the value of `n_init` explicitly to suppress the warning\n",
            "  super()._check_params_vs_input(X, default_n_init=10)\n",
            "/usr/local/lib/python3.10/dist-packages/sklearn/cluster/_kmeans.py:1416: FutureWarning: The default value of `n_init` will change from 10 to 'auto' in 1.4. Set the value of `n_init` explicitly to suppress the warning\n",
            "  super()._check_params_vs_input(X, default_n_init=10)\n",
            "/usr/local/lib/python3.10/dist-packages/sklearn/cluster/_kmeans.py:1416: FutureWarning: The default value of `n_init` will change from 10 to 'auto' in 1.4. Set the value of `n_init` explicitly to suppress the warning\n",
            "  super()._check_params_vs_input(X, default_n_init=10)\n"
          ]
        },
        {
          "output_type": "stream",
          "name": "stdout",
          "text": [
            "k = 2: Silhouette = 0.30321787454910154, CH Score = 834.6349844543615, DB Index = 1.220703238266825\n",
            "k = 3: Silhouette = 0.2498659951815645, CH Score = 592.0872413718259, DB Index = 1.828832139078073\n",
            "k = 4: Silhouette = 0.2402020361351128, CH Score = 463.0669069651409, DB Index = 1.7952719038957021\n",
            "k = 5: Silhouette = 0.20788785022275677, CH Score = 396.1288703862494, DB Index = 2.03732775289387\n",
            "k = 6: Silhouette = 0.1725881069814217, CH Score = 351.04773096643305, DB Index = 1.9397488216997274\n",
            "k = 7: Silhouette = 0.1676483639057841, CH Score = 312.3300995839269, DB Index = 2.0734167383462085\n",
            "k = 8: Silhouette = 0.16585106833994193, CH Score = 287.80102373225657, DB Index = 1.9431819738889557\n",
            "k = 9: Silhouette = 0.11670766914743311, CH Score = 262.8972562824695, DB Index = 1.9651684333540738\n"
          ]
        }
      ]
    },
    {
      "cell_type": "code",
      "source": [
        "import matplotlib.pyplot as plt\n",
        "\n",
        "distortions = []\n",
        "for k in range(2, 20):\n",
        "    kmeans = KMeans(n_clusters=k).fit(x_train)\n",
        "    distortions.append(kmeans.inertia_)\n",
        "\n",
        "plt.plot(range(2, 20), distortions, marker='o')\n",
        "plt.xlabel('Number of clusters (k)')\n",
        "plt.ylabel('Distortion')\n",
        "plt.title('Elbow Plot')\n",
        "plt.show()"
      ],
      "metadata": {
        "colab": {
          "base_uri": "https://localhost:8080/",
          "height": 1000
        },
        "id": "56qu3W_FxJVc",
        "outputId": "d47f8ebf-a2c4-48f9-ca6b-7ebe03a2aa64"
      },
      "execution_count": 11,
      "outputs": [
        {
          "output_type": "stream",
          "name": "stderr",
          "text": [
            "/usr/local/lib/python3.10/dist-packages/sklearn/cluster/_kmeans.py:1416: FutureWarning: The default value of `n_init` will change from 10 to 'auto' in 1.4. Set the value of `n_init` explicitly to suppress the warning\n",
            "  super()._check_params_vs_input(X, default_n_init=10)\n",
            "/usr/local/lib/python3.10/dist-packages/sklearn/cluster/_kmeans.py:1416: FutureWarning: The default value of `n_init` will change from 10 to 'auto' in 1.4. Set the value of `n_init` explicitly to suppress the warning\n",
            "  super()._check_params_vs_input(X, default_n_init=10)\n",
            "/usr/local/lib/python3.10/dist-packages/sklearn/cluster/_kmeans.py:1416: FutureWarning: The default value of `n_init` will change from 10 to 'auto' in 1.4. Set the value of `n_init` explicitly to suppress the warning\n",
            "  super()._check_params_vs_input(X, default_n_init=10)\n",
            "/usr/local/lib/python3.10/dist-packages/sklearn/cluster/_kmeans.py:1416: FutureWarning: The default value of `n_init` will change from 10 to 'auto' in 1.4. Set the value of `n_init` explicitly to suppress the warning\n",
            "  super()._check_params_vs_input(X, default_n_init=10)\n",
            "/usr/local/lib/python3.10/dist-packages/sklearn/cluster/_kmeans.py:1416: FutureWarning: The default value of `n_init` will change from 10 to 'auto' in 1.4. Set the value of `n_init` explicitly to suppress the warning\n",
            "  super()._check_params_vs_input(X, default_n_init=10)\n",
            "/usr/local/lib/python3.10/dist-packages/sklearn/cluster/_kmeans.py:1416: FutureWarning: The default value of `n_init` will change from 10 to 'auto' in 1.4. Set the value of `n_init` explicitly to suppress the warning\n",
            "  super()._check_params_vs_input(X, default_n_init=10)\n",
            "/usr/local/lib/python3.10/dist-packages/sklearn/cluster/_kmeans.py:1416: FutureWarning: The default value of `n_init` will change from 10 to 'auto' in 1.4. Set the value of `n_init` explicitly to suppress the warning\n",
            "  super()._check_params_vs_input(X, default_n_init=10)\n",
            "/usr/local/lib/python3.10/dist-packages/sklearn/cluster/_kmeans.py:1416: FutureWarning: The default value of `n_init` will change from 10 to 'auto' in 1.4. Set the value of `n_init` explicitly to suppress the warning\n",
            "  super()._check_params_vs_input(X, default_n_init=10)\n",
            "/usr/local/lib/python3.10/dist-packages/sklearn/cluster/_kmeans.py:1416: FutureWarning: The default value of `n_init` will change from 10 to 'auto' in 1.4. Set the value of `n_init` explicitly to suppress the warning\n",
            "  super()._check_params_vs_input(X, default_n_init=10)\n",
            "/usr/local/lib/python3.10/dist-packages/sklearn/cluster/_kmeans.py:1416: FutureWarning: The default value of `n_init` will change from 10 to 'auto' in 1.4. Set the value of `n_init` explicitly to suppress the warning\n",
            "  super()._check_params_vs_input(X, default_n_init=10)\n",
            "/usr/local/lib/python3.10/dist-packages/sklearn/cluster/_kmeans.py:1416: FutureWarning: The default value of `n_init` will change from 10 to 'auto' in 1.4. Set the value of `n_init` explicitly to suppress the warning\n",
            "  super()._check_params_vs_input(X, default_n_init=10)\n",
            "/usr/local/lib/python3.10/dist-packages/sklearn/cluster/_kmeans.py:1416: FutureWarning: The default value of `n_init` will change from 10 to 'auto' in 1.4. Set the value of `n_init` explicitly to suppress the warning\n",
            "  super()._check_params_vs_input(X, default_n_init=10)\n",
            "/usr/local/lib/python3.10/dist-packages/sklearn/cluster/_kmeans.py:1416: FutureWarning: The default value of `n_init` will change from 10 to 'auto' in 1.4. Set the value of `n_init` explicitly to suppress the warning\n",
            "  super()._check_params_vs_input(X, default_n_init=10)\n",
            "/usr/local/lib/python3.10/dist-packages/sklearn/cluster/_kmeans.py:1416: FutureWarning: The default value of `n_init` will change from 10 to 'auto' in 1.4. Set the value of `n_init` explicitly to suppress the warning\n",
            "  super()._check_params_vs_input(X, default_n_init=10)\n",
            "/usr/local/lib/python3.10/dist-packages/sklearn/cluster/_kmeans.py:1416: FutureWarning: The default value of `n_init` will change from 10 to 'auto' in 1.4. Set the value of `n_init` explicitly to suppress the warning\n",
            "  super()._check_params_vs_input(X, default_n_init=10)\n",
            "/usr/local/lib/python3.10/dist-packages/sklearn/cluster/_kmeans.py:1416: FutureWarning: The default value of `n_init` will change from 10 to 'auto' in 1.4. Set the value of `n_init` explicitly to suppress the warning\n",
            "  super()._check_params_vs_input(X, default_n_init=10)\n",
            "/usr/local/lib/python3.10/dist-packages/sklearn/cluster/_kmeans.py:1416: FutureWarning: The default value of `n_init` will change from 10 to 'auto' in 1.4. Set the value of `n_init` explicitly to suppress the warning\n",
            "  super()._check_params_vs_input(X, default_n_init=10)\n",
            "/usr/local/lib/python3.10/dist-packages/sklearn/cluster/_kmeans.py:1416: FutureWarning: The default value of `n_init` will change from 10 to 'auto' in 1.4. Set the value of `n_init` explicitly to suppress the warning\n",
            "  super()._check_params_vs_input(X, default_n_init=10)\n"
          ]
        },
        {
          "output_type": "display_data",
          "data": {
            "text/plain": [
              "<Figure size 640x480 with 1 Axes>"
            ],
            "image/png": "[encoded data removed]"
          },
          "metadata": {}
        }
      ]
    },
    {
      "cell_type": "code",
      "source": [],
      "metadata": {
        "id": "eQwNqI8rxNDu"
      },
      "execution_count": 11,
      "outputs": []
    },
    {
      "cell_type": "markdown",
      "source": [],
      "metadata": {
        "id": "ua_ITzvnvWbr"
      }
    }
  ]
}